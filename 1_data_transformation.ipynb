{
 "cells": [
  {
   "cell_type": "markdown",
   "metadata": {},
   "source": [
    "## 0. Libraries "
   ]
  },
  {
   "cell_type": "code",
   "execution_count": 2,
   "metadata": {},
   "outputs": [
    {
     "ename": "ModuleNotFoundError",
     "evalue": "No module named 'deep_translator'",
     "output_type": "error",
     "traceback": [
      "\u001b[0;31m---------------------------------------------------------------------------\u001b[0m",
      "\u001b[0;31mModuleNotFoundError\u001b[0m                       Traceback (most recent call last)",
      "Cell \u001b[0;32mIn[2], line 6\u001b[0m\n\u001b[1;32m      4\u001b[0m \u001b[38;5;28;01mfrom\u001b[39;00m \u001b[38;5;21;01mgoogletrans\u001b[39;00m \u001b[38;5;28;01mimport\u001b[39;00m Translator\n\u001b[1;32m      5\u001b[0m \u001b[38;5;28;01mfrom\u001b[39;00m \u001b[38;5;21;01mtextblob\u001b[39;00m \u001b[38;5;28;01mimport\u001b[39;00m TextBlob\n\u001b[0;32m----> 6\u001b[0m \u001b[38;5;28;01mfrom\u001b[39;00m \u001b[38;5;21;01mdeep_translator\u001b[39;00m \u001b[38;5;28;01mimport\u001b[39;00m GoogleTranslator\n\u001b[1;32m      7\u001b[0m \u001b[38;5;28;01mimport\u001b[39;00m \u001b[38;5;21;01mtime\u001b[39;00m\n\u001b[1;32m      8\u001b[0m \u001b[38;5;28;01mfrom\u001b[39;00m \u001b[38;5;21;01mtextblob\u001b[39;00m \u001b[38;5;28;01mimport\u001b[39;00m TextBlob\n",
      "\u001b[0;31mModuleNotFoundError\u001b[0m: No module named 'deep_translator'"
     ]
    }
   ],
   "source": [
    "import pandas as pd\n",
    "import matplotlib\n",
    "import numpy as np  \n",
    "from googletrans import Translator\n",
    "from textblob import TextBlob\n",
    "from deep_translator import GoogleTranslator\n",
    "import time\n",
    "from textblob import TextBlob"
   ]
  },
  {
   "cell_type": "markdown",
   "metadata": {},
   "source": [
    "## 1. Loading Data"
   ]
  },
  {
   "cell_type": "code",
   "execution_count": 1,
   "metadata": {},
   "outputs": [
    {
     "ename": "NameError",
     "evalue": "name 'pd' is not defined",
     "output_type": "error",
     "traceback": [
      "\u001b[0;31m---------------------------------------------------------------------------\u001b[0m",
      "\u001b[0;31mNameError\u001b[0m                                 Traceback (most recent call last)",
      "Cell \u001b[0;32mIn[1], line 2\u001b[0m\n\u001b[1;32m      1\u001b[0m \u001b[38;5;66;03m# Load the clean data\u001b[39;00m\n\u001b[0;32m----> 2\u001b[0m df \u001b[38;5;241m=\u001b[39m \u001b[43mpd\u001b[49m\u001b[38;5;241m.\u001b[39mread_csv(\u001b[38;5;124m'\u001b[39m\u001b[38;5;124mdata/clean/clean_df.csv\u001b[39m\u001b[38;5;124m'\u001b[39m)\n",
      "\u001b[0;31mNameError\u001b[0m: name 'pd' is not defined"
     ]
    }
   ],
   "source": [
    "# Load the clean data\n",
    "df = pd.read_csv('data/clean/clean_df.csv')"
   ]
  },
  {
   "cell_type": "markdown",
   "metadata": {},
   "source": [
    "## 2. Data Understandig "
   ]
  },
  {
   "cell_type": "markdown",
   "metadata": {},
   "source": [
    "- Numbers of interviews \n",
    "\n",
    "- 2005 - 815\n",
    "- 2007 - 797\n",
    "- 2009 - 827 \n",
    "- 2011 - 1352\n",
    "- 2013 - 1248\n",
    "- 2015 - 1102\n",
    "- 2017 - 1116\n",
    "- 2019 - 2400\n",
    "- 2021 - 3000\n",
    "- 2023 - 21787\n",
    "\n"
   ]
  },
  {
   "cell_type": "code",
   "execution_count": null,
   "metadata": {},
   "outputs": [
    {
     "name": "stdout",
     "output_type": "stream",
     "text": [
      "<class 'pandas.core.frame.DataFrame'>\n",
      "RangeIndex: 1779 entries, 0 to 1778\n",
      "Data columns (total 5 columns):\n",
      " #   Column      Non-Null Count  Dtype \n",
      "---  ------      --------------  ----- \n",
      " 0   bloco       1779 non-null   object\n",
      " 1   question    1779 non-null   object\n",
      " 2   year        1779 non-null   int64 \n",
      " 3   answer      1779 non-null   object\n",
      " 4   percentage  1779 non-null   int64 \n",
      "dtypes: int64(2), object(3)\n",
      "memory usage: 69.6+ KB\n"
     ]
    }
   ],
   "source": [
    "df.info()  "
   ]
  },
  {
   "cell_type": "code",
   "execution_count": 4,
   "metadata": {},
   "outputs": [
    {
     "data": {
      "text/plain": [
       "np.int64(0)"
      ]
     },
     "execution_count": 4,
     "metadata": {},
     "output_type": "execute_result"
    }
   ],
   "source": [
    "df.duplicated().sum()  # Check for duplicates"
   ]
  },
  {
   "cell_type": "code",
   "execution_count": 5,
   "metadata": {},
   "outputs": [
    {
     "data": {
      "text/html": [
       "<div>\n",
       "<style scoped>\n",
       "    .dataframe tbody tr th:only-of-type {\n",
       "        vertical-align: middle;\n",
       "    }\n",
       "\n",
       "    .dataframe tbody tr th {\n",
       "        vertical-align: top;\n",
       "    }\n",
       "\n",
       "    .dataframe thead th {\n",
       "        text-align: right;\n",
       "    }\n",
       "</style>\n",
       "<table border=\"1\" class=\"dataframe\">\n",
       "  <thead>\n",
       "    <tr style=\"text-align: right;\">\n",
       "      <th></th>\n",
       "      <th>bloco</th>\n",
       "      <th>question</th>\n",
       "      <th>year</th>\n",
       "      <th>answer</th>\n",
       "      <th>percentage</th>\n",
       "    </tr>\n",
       "  </thead>\n",
       "  <tbody>\n",
       "    <tr>\n",
       "      <th>0</th>\n",
       "      <td>Percepção geral sobre violência contra as mulh...</td>\n",
       "      <td>De forma geral, você acha que as mulheres são ...</td>\n",
       "      <td>2005</td>\n",
       "      <td>Sim</td>\n",
       "      <td>8</td>\n",
       "    </tr>\n",
       "    <tr>\n",
       "      <th>1</th>\n",
       "      <td>Percepção geral sobre violência contra as mulh...</td>\n",
       "      <td>De forma geral, você acha que as mulheres são ...</td>\n",
       "      <td>2005</td>\n",
       "      <td>Às vezes</td>\n",
       "      <td>35</td>\n",
       "    </tr>\n",
       "    <tr>\n",
       "      <th>2</th>\n",
       "      <td>Percepção geral sobre violência contra as mulh...</td>\n",
       "      <td>De forma geral, você acha que as mulheres são ...</td>\n",
       "      <td>2005</td>\n",
       "      <td>Não</td>\n",
       "      <td>56</td>\n",
       "    </tr>\n",
       "    <tr>\n",
       "      <th>3</th>\n",
       "      <td>Percepção geral sobre violência contra as mulh...</td>\n",
       "      <td>De forma geral, você acha que as mulheres são ...</td>\n",
       "      <td>2005</td>\n",
       "      <td>NS/NR</td>\n",
       "      <td>0</td>\n",
       "    </tr>\n",
       "    <tr>\n",
       "      <th>4</th>\n",
       "      <td>Percepção geral sobre violência contra as mulh...</td>\n",
       "      <td>De forma geral, você acha que as mulheres são ...</td>\n",
       "      <td>2007</td>\n",
       "      <td>Sim</td>\n",
       "      <td>8</td>\n",
       "    </tr>\n",
       "  </tbody>\n",
       "</table>\n",
       "</div>"
      ],
      "text/plain": [
       "                                               bloco  \\\n",
       "0  Percepção geral sobre violência contra as mulh...   \n",
       "1  Percepção geral sobre violência contra as mulh...   \n",
       "2  Percepção geral sobre violência contra as mulh...   \n",
       "3  Percepção geral sobre violência contra as mulh...   \n",
       "4  Percepção geral sobre violência contra as mulh...   \n",
       "\n",
       "                                            question  year    answer  \\\n",
       "0  De forma geral, você acha que as mulheres são ...  2005       Sim   \n",
       "1  De forma geral, você acha que as mulheres são ...  2005  Às vezes   \n",
       "2  De forma geral, você acha que as mulheres são ...  2005       Não   \n",
       "3  De forma geral, você acha que as mulheres são ...  2005     NS/NR   \n",
       "4  De forma geral, você acha que as mulheres são ...  2007       Sim   \n",
       "\n",
       "   percentage  \n",
       "0           8  \n",
       "1          35  \n",
       "2          56  \n",
       "3           0  \n",
       "4           8  "
      ]
     },
     "execution_count": 5,
     "metadata": {},
     "output_type": "execute_result"
    }
   ],
   "source": [
    "df.head()   # Check the first few rows of the data"
   ]
  },
  {
   "cell_type": "markdown",
   "metadata": {},
   "source": [
    "## 3. Data Transformation "
   ]
  },
  {
   "cell_type": "code",
   "execution_count": 6,
   "metadata": {},
   "outputs": [],
   "source": [
    "# Define the function for translation\n",
    "def translate_text(text, source_lang=\"pt\", target_lang=\"en\"):\n",
    "    \"\"\"Translates text using GoogleTranslator from deep-translator.\"\"\"\n",
    "    try:\n",
    "        if pd.notna(text):  \n",
    "            return GoogleTranslator(source=source_lang, target=target_lang).translate(text)\n",
    "        return text\n",
    "    except Exception as e:\n",
    "        print(f\"Translation failed for '{text}': {e}\")\n",
    "        return text  \n",
    "\n",
    "# Ensure profile_df exists\n",
    "if \"df1\" not in locals():\n",
    "    df1 = df.copy()  \n",
    "\n",
    "# Apply translation to relevant columns\n",
    "df1[\"category_translated\"] = df[\"bloco\"].apply(translate_text)\n",
    "df1[\"question_translated\"] = df[\"question\"].apply(translate_text)\n",
    "df1[\"answer_translated\"] = df[\"answer\"].apply(translate_text)"
   ]
  },
  {
   "cell_type": "code",
   "execution_count": 9,
   "metadata": {},
   "outputs": [],
   "source": [
    "\n",
    "# Dictionary with the number of interviews per year\n",
    "interviews_per_year = {\n",
    "    2005: 815,\n",
    "    2007: 797,\n",
    "    2009: 827,\n",
    "    2011: 1352,\n",
    "    2013: 1248,\n",
    "    2015: 1102,\n",
    "    2017: 1116,\n",
    "    2019: 2400,\n",
    "    2021: 3000,\n",
    "    2023: 21787\n",
    "}\n",
    "\n",
    "# Add a new column calculating the total number of answers for each row\n",
    "df1[\"total_answers\"] = df1.apply(lambda row: int((row[\"percentage\"] / 100) * interviews_per_year.get(row[\"year\"], 1)), axis=1)"
   ]
  },
  {
   "cell_type": "code",
   "execution_count": 11,
   "metadata": {},
   "outputs": [],
   "source": [
    "# Save the translated DataFrame\n",
    "df1.to_csv(\"data/clean/translated_df.csv\", index=False)"
   ]
  },
  {
   "cell_type": "code",
   "execution_count": 13,
   "metadata": {},
   "outputs": [
    {
     "data": {
      "text/html": [
       "<div>\n",
       "<style scoped>\n",
       "    .dataframe tbody tr th:only-of-type {\n",
       "        vertical-align: middle;\n",
       "    }\n",
       "\n",
       "    .dataframe tbody tr th {\n",
       "        vertical-align: top;\n",
       "    }\n",
       "\n",
       "    .dataframe thead th {\n",
       "        text-align: right;\n",
       "    }\n",
       "</style>\n",
       "<table border=\"1\" class=\"dataframe\">\n",
       "  <thead>\n",
       "    <tr style=\"text-align: right;\">\n",
       "      <th></th>\n",
       "      <th>year</th>\n",
       "      <th>category</th>\n",
       "      <th>question</th>\n",
       "      <th>answer</th>\n",
       "      <th>percentage</th>\n",
       "      <th>total_answers</th>\n",
       "    </tr>\n",
       "  </thead>\n",
       "  <tbody>\n",
       "    <tr>\n",
       "      <th>0</th>\n",
       "      <td>2005</td>\n",
       "      <td>General perception of violence against women</td>\n",
       "      <td>In general, do you think women are treated wit...</td>\n",
       "      <td>Yes</td>\n",
       "      <td>8</td>\n",
       "      <td>65</td>\n",
       "    </tr>\n",
       "    <tr>\n",
       "      <th>1</th>\n",
       "      <td>2005</td>\n",
       "      <td>General perception of violence against women</td>\n",
       "      <td>In general, do you think women are treated wit...</td>\n",
       "      <td>Sometimes</td>\n",
       "      <td>35</td>\n",
       "      <td>285</td>\n",
       "    </tr>\n",
       "    <tr>\n",
       "      <th>2</th>\n",
       "      <td>2005</td>\n",
       "      <td>General perception of violence against women</td>\n",
       "      <td>In general, do you think women are treated wit...</td>\n",
       "      <td>No</td>\n",
       "      <td>56</td>\n",
       "      <td>456</td>\n",
       "    </tr>\n",
       "    <tr>\n",
       "      <th>3</th>\n",
       "      <td>2005</td>\n",
       "      <td>General perception of violence against women</td>\n",
       "      <td>In general, do you think women are treated wit...</td>\n",
       "      <td>NS/NR</td>\n",
       "      <td>0</td>\n",
       "      <td>0</td>\n",
       "    </tr>\n",
       "    <tr>\n",
       "      <th>4</th>\n",
       "      <td>2007</td>\n",
       "      <td>General perception of violence against women</td>\n",
       "      <td>In general, do you think women are treated wit...</td>\n",
       "      <td>Yes</td>\n",
       "      <td>8</td>\n",
       "      <td>63</td>\n",
       "    </tr>\n",
       "    <tr>\n",
       "      <th>...</th>\n",
       "      <td>...</td>\n",
       "      <td>...</td>\n",
       "      <td>...</td>\n",
       "      <td>...</td>\n",
       "      <td>...</td>\n",
       "      <td>...</td>\n",
       "    </tr>\n",
       "    <tr>\n",
       "      <th>1774</th>\n",
       "      <td>2023</td>\n",
       "      <td>Occupation profile</td>\n",
       "      <td>Your individual income, not counting on the he...</td>\n",
       "      <td>Other</td>\n",
       "      <td>9</td>\n",
       "      <td>1960</td>\n",
       "    </tr>\n",
       "    <tr>\n",
       "      <th>1775</th>\n",
       "      <td>2023</td>\n",
       "      <td>Occupation profile</td>\n",
       "      <td>Is your individual income enough to keep you a...</td>\n",
       "      <td>Yes</td>\n",
       "      <td>37</td>\n",
       "      <td>8061</td>\n",
       "    </tr>\n",
       "    <tr>\n",
       "      <th>1776</th>\n",
       "      <td>2023</td>\n",
       "      <td>Occupation profile</td>\n",
       "      <td>Is your individual income enough to keep you a...</td>\n",
       "      <td>No</td>\n",
       "      <td>32</td>\n",
       "      <td>6971</td>\n",
       "    </tr>\n",
       "    <tr>\n",
       "      <th>1777</th>\n",
       "      <td>2023</td>\n",
       "      <td>Occupation profile</td>\n",
       "      <td>Is your individual income enough to keep you a...</td>\n",
       "      <td>There is no income</td>\n",
       "      <td>30</td>\n",
       "      <td>6536</td>\n",
       "    </tr>\n",
       "    <tr>\n",
       "      <th>1778</th>\n",
       "      <td>2023</td>\n",
       "      <td>Occupation profile</td>\n",
       "      <td>Is your individual income enough to keep you a...</td>\n",
       "      <td>NS/NR</td>\n",
       "      <td>1</td>\n",
       "      <td>217</td>\n",
       "    </tr>\n",
       "  </tbody>\n",
       "</table>\n",
       "<p>1779 rows × 6 columns</p>\n",
       "</div>"
      ],
      "text/plain": [
       "      year                                      category  \\\n",
       "0     2005  General perception of violence against women   \n",
       "1     2005  General perception of violence against women   \n",
       "2     2005  General perception of violence against women   \n",
       "3     2005  General perception of violence against women   \n",
       "4     2007  General perception of violence against women   \n",
       "...    ...                                           ...   \n",
       "1774  2023                            Occupation profile   \n",
       "1775  2023                            Occupation profile   \n",
       "1776  2023                            Occupation profile   \n",
       "1777  2023                            Occupation profile   \n",
       "1778  2023                            Occupation profile   \n",
       "\n",
       "                                               question              answer  \\\n",
       "0     In general, do you think women are treated wit...                 Yes   \n",
       "1     In general, do you think women are treated wit...           Sometimes   \n",
       "2     In general, do you think women are treated wit...                  No   \n",
       "3     In general, do you think women are treated wit...               NS/NR   \n",
       "4     In general, do you think women are treated wit...                 Yes   \n",
       "...                                                 ...                 ...   \n",
       "1774  Your individual income, not counting on the he...               Other   \n",
       "1775  Is your individual income enough to keep you a...                 Yes   \n",
       "1776  Is your individual income enough to keep you a...                  No   \n",
       "1777  Is your individual income enough to keep you a...  There is no income   \n",
       "1778  Is your individual income enough to keep you a...               NS/NR   \n",
       "\n",
       "      percentage  total_answers  \n",
       "0              8             65  \n",
       "1             35            285  \n",
       "2             56            456  \n",
       "3              0              0  \n",
       "4              8             63  \n",
       "...          ...            ...  \n",
       "1774           9           1960  \n",
       "1775          37           8061  \n",
       "1776          32           6971  \n",
       "1777          30           6536  \n",
       "1778           1            217  \n",
       "\n",
       "[1779 rows x 6 columns]"
      ]
     },
     "execution_count": 13,
     "metadata": {},
     "output_type": "execute_result"
    }
   ],
   "source": [
    "df2 = df1.copy()\n",
    "df2.drop(columns=[\"bloco\", \"question\", \"answer\"], inplace=True)\n",
    "df2.rename(columns={\"category_translated\": \"category\", \"question_translated\": \"question\", \"answer_translated\": \"answer\"}, inplace=True)\n",
    "df2[['year', 'category', 'question', 'answer', 'percentage']]\n",
    "df2[\"year\"] = df2[\"year\"].astype(str)\n",
    "\n",
    "# Create a new DataFrame with selected columns from df2\n",
    "df3 = df2[['year', 'category', 'question', 'answer', 'percentage', 'total_answers']]\n",
    "df3"
   ]
  },
  {
   "cell_type": "code",
   "execution_count": 14,
   "metadata": {},
   "outputs": [],
   "source": [
    "# Save the final DataFrame\n",
    "df3.to_csv(\"data/clean/final_translated_df.csv\", index=False)"
   ]
  },
  {
   "cell_type": "code",
   "execution_count": null,
   "metadata": {},
   "outputs": [],
   "source": []
  }
 ],
 "metadata": {
  "kernelspec": {
   "display_name": "base",
   "language": "python",
   "name": "python3"
  },
  "language_info": {
   "codemirror_mode": {
    "name": "ipython",
    "version": 3
   },
   "file_extension": ".py",
   "mimetype": "text/x-python",
   "name": "python",
   "nbconvert_exporter": "python",
   "pygments_lexer": "ipython3",
   "version": "3.12.2"
  }
 },
 "nbformat": 4,
 "nbformat_minor": 2
}
