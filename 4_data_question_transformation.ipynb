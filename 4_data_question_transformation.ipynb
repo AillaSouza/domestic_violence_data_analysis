{
 "cells": [
  {
   "cell_type": "markdown",
   "metadata": {},
   "source": [
    "## 0. Libraries "
   ]
  },
  {
   "cell_type": "code",
   "execution_count": 1,
   "metadata": {},
   "outputs": [],
   "source": [
    "import pandas as pd\n",
    "import matplotlib\n",
    "import numpy as np  \n",
    "import matplotlib.pyplot as plt\n",
    "import seaborn as sns\n",
    "from googletrans import Translator\n",
    "from textblob import TextBlob\n",
    "from deep_translator import GoogleTranslator\n",
    "import time\n",
    "from textblob import TextBlob"
   ]
  },
  {
   "cell_type": "markdown",
   "metadata": {},
   "source": [
    "## 1. Load Data "
   ]
  },
  {
   "cell_type": "code",
   "execution_count": 4,
   "metadata": {},
   "outputs": [],
   "source": [
    "# Load the data\n",
    "df = pd.read_csv('data/clean/question_1.csv')"
   ]
  },
  {
   "cell_type": "markdown",
   "metadata": {},
   "source": [
    "## 2. Data Transformation "
   ]
  },
  {
   "cell_type": "code",
   "execution_count": 5,
   "metadata": {},
   "outputs": [],
   "source": [
    "# Define the function for translation\n",
    "def translate_text(text, source_lang=\"pt\", target_lang=\"en\"):\n",
    "    \"\"\"Translates text using GoogleTranslator from deep-translator.\"\"\"\n",
    "    try:\n",
    "        if pd.notna(text):  # Check if text is not NaN\n",
    "            return GoogleTranslator(source=source_lang, target=target_lang).translate(text)\n",
    "        return text\n",
    "    except Exception as e:\n",
    "        print(f\"Translation failed for '{text}': {e}\")\n",
    "        return text  # Keep the original text if translation fails\n",
    "\n",
    "# Ensure profile_df exists\n",
    "if \"df1\" not in locals():\n",
    "    df1 = df.copy()  # Copy the original DataFrame"
   ]
  },
  {
   "cell_type": "code",
   "execution_count": 6,
   "metadata": {},
   "outputs": [],
   "source": [
    "# Apply translation to relevant columns\n",
    "df1[\"category\"] = df[\"var_cruz\"].apply(translate_text)\n",
    "df1[\"answer\"] = df[\"categoria\"].apply(translate_text)\n",
    "df1[\"subcategory\"] = df[\"subcategoria\"].apply(translate_text)"
   ]
  },
  {
   "cell_type": "code",
   "execution_count": 8,
   "metadata": {},
   "outputs": [],
   "source": [
    "# Drop columns that are not needed\n",
    "df1.drop(columns=[\"var_cruz\", \"categoria\", \"subcategoria\"], inplace=True)"
   ]
  },
  {
   "cell_type": "code",
   "execution_count": 14,
   "metadata": {},
   "outputs": [],
   "source": [
    "# Rename columns\n",
    "df1.rename(columns={\"ano\": \"year\", \"percentual\":\"percentage\"} , inplace=True)"
   ]
  },
  {
   "cell_type": "code",
   "execution_count": 16,
   "metadata": {},
   "outputs": [],
   "source": [
    "# Reorder columns\n",
    "df1 = df1[[\"year\", \"category\", \"subcategory\", \"answer\", \"percentage\"]]"
   ]
  },
  {
   "cell_type": "code",
   "execution_count": 18,
   "metadata": {},
   "outputs": [],
   "source": [
    "# Save the translated DataFrame\n",
    "df1.to_csv('data/clean/question_1_translated.csv', index=False)"
   ]
  },
  {
   "cell_type": "code",
   "execution_count": null,
   "metadata": {},
   "outputs": [],
   "source": []
  }
 ],
 "metadata": {
  "kernelspec": {
   "display_name": ".venv",
   "language": "python",
   "name": "python3"
  },
  "language_info": {
   "codemirror_mode": {
    "name": "ipython",
    "version": 3
   },
   "file_extension": ".py",
   "mimetype": "text/x-python",
   "name": "python",
   "nbconvert_exporter": "python",
   "pygments_lexer": "ipython3",
   "version": "3.12.2"
  }
 },
 "nbformat": 4,
 "nbformat_minor": 2
}
