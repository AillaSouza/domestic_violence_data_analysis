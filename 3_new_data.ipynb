{
 "cells": [
  {
   "cell_type": "code",
   "execution_count": 1,
   "metadata": {},
   "outputs": [],
   "source": [
    "import json\n",
    "import pandas as pd"
   ]
  },
  {
   "cell_type": "code",
   "execution_count": 2,
   "metadata": {},
   "outputs": [],
   "source": [
    "with open(\"data/raw/datasenado_json_completo.json\", \"r\", encoding='utf-8-sig') as f:\n",
    "    data = json.load(f)"
   ]
  },
  {
   "cell_type": "code",
   "execution_count": 4,
   "metadata": {},
   "outputs": [],
   "source": [
    "question_1 = 'Você já sofreu algum tipo de violência doméstica ou familiar provocada por um homem?'"
   ]
  },
  {
   "cell_type": "code",
   "execution_count": 37,
   "metadata": {},
   "outputs": [],
   "source": [
    "clean_data = []\n",
    "\n",
    "for bloco in data['perguntas']:\n",
    "    if bloco['bloco'] == 'A violência vivida / testemunhada':\n",
    "        for pergunta in bloco['perguntas']:\n",
    "            if pergunta['titulo'] == question_1:\n",
    "                for ano in pergunta['anos']:\n",
    "                    for cruzamento in ano['cruzamentos']:\n",
    "                        for categorias in cruzamento['categorias']:\n",
    "                            for subcategoria in categorias['subcategorias']:\n",
    "                                row = {}\n",
    "                                row['ano'] = ano['ano']\n",
    "                                row['var_cruz'] = cruzamento['var_cruz']\n",
    "                                row['categoria'] = categorias['categoria']\n",
    "                                row['subcategoria'] = subcategoria['cat']\n",
    "                                row['percentual'] = subcategoria['perc'] \n",
    "                                clean_data.append(row)"
   ]
  },
  {
   "cell_type": "code",
   "execution_count": 38,
   "metadata": {},
   "outputs": [],
   "source": [
    "clean_data_df = pd.DataFrame(clean_data)"
   ]
  },
  {
   "cell_type": "code",
   "execution_count": 40,
   "metadata": {},
   "outputs": [
    {
     "data": {
      "text/html": [
       "<div>\n",
       "<style scoped>\n",
       "    .dataframe tbody tr th:only-of-type {\n",
       "        vertical-align: middle;\n",
       "    }\n",
       "\n",
       "    .dataframe tbody tr th {\n",
       "        vertical-align: top;\n",
       "    }\n",
       "\n",
       "    .dataframe thead th {\n",
       "        text-align: right;\n",
       "    }\n",
       "</style>\n",
       "<table border=\"1\" class=\"dataframe\">\n",
       "  <thead>\n",
       "    <tr style=\"text-align: right;\">\n",
       "      <th></th>\n",
       "      <th>ano</th>\n",
       "      <th>var_cruz</th>\n",
       "      <th>categoria</th>\n",
       "      <th>subcategoria</th>\n",
       "      <th>percentual</th>\n",
       "    </tr>\n",
       "  </thead>\n",
       "  <tbody>\n",
       "    <tr>\n",
       "      <th>0</th>\n",
       "      <td>2005</td>\n",
       "      <td>Faixa etária</td>\n",
       "      <td>Sim</td>\n",
       "      <td>16 a 29 anos</td>\n",
       "      <td>11</td>\n",
       "    </tr>\n",
       "    <tr>\n",
       "      <th>1</th>\n",
       "      <td>2005</td>\n",
       "      <td>Faixa etária</td>\n",
       "      <td>Sim</td>\n",
       "      <td>30 a 39 anos</td>\n",
       "      <td>25</td>\n",
       "    </tr>\n",
       "    <tr>\n",
       "      <th>2</th>\n",
       "      <td>2005</td>\n",
       "      <td>Faixa etária</td>\n",
       "      <td>Sim</td>\n",
       "      <td>40 a 49 anos</td>\n",
       "      <td>23</td>\n",
       "    </tr>\n",
       "    <tr>\n",
       "      <th>3</th>\n",
       "      <td>2005</td>\n",
       "      <td>Faixa etária</td>\n",
       "      <td>Sim</td>\n",
       "      <td>50 a 59 anos</td>\n",
       "      <td>13</td>\n",
       "    </tr>\n",
       "    <tr>\n",
       "      <th>4</th>\n",
       "      <td>2005</td>\n",
       "      <td>Faixa etária</td>\n",
       "      <td>Sim</td>\n",
       "      <td>60 ou mais</td>\n",
       "      <td>15</td>\n",
       "    </tr>\n",
       "  </tbody>\n",
       "</table>\n",
       "</div>"
      ],
      "text/plain": [
       "    ano      var_cruz categoria  subcategoria percentual\n",
       "0  2005  Faixa etária       Sim  16 a 29 anos         11\n",
       "1  2005  Faixa etária       Sim  30 a 39 anos         25\n",
       "2  2005  Faixa etária       Sim  40 a 49 anos         23\n",
       "3  2005  Faixa etária       Sim  50 a 59 anos         13\n",
       "4  2005  Faixa etária       Sim    60 ou mais         15"
      ]
     },
     "execution_count": 40,
     "metadata": {},
     "output_type": "execute_result"
    }
   ],
   "source": [
    "clean_data_df.head()"
   ]
  },
  {
   "cell_type": "code",
   "execution_count": 41,
   "metadata": {},
   "outputs": [],
   "source": [
    "# Save data to csv\n",
    "clean_data_df.to_csv('data/clean/question_1.csv', index=False)"
   ]
  },
  {
   "cell_type": "code",
   "execution_count": null,
   "metadata": {},
   "outputs": [],
   "source": []
  }
 ],
 "metadata": {
  "kernelspec": {
   "display_name": ".venv",
   "language": "python",
   "name": "python3"
  },
  "language_info": {
   "codemirror_mode": {
    "name": "ipython",
    "version": 3
   },
   "file_extension": ".py",
   "mimetype": "text/x-python",
   "name": "python",
   "nbconvert_exporter": "python",
   "pygments_lexer": "ipython3",
   "version": "3.12.2"
  }
 },
 "nbformat": 4,
 "nbformat_minor": 2
}
