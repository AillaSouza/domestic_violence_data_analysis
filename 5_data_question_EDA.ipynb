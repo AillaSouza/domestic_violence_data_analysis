{
 "cells": [
  {
   "cell_type": "markdown",
   "metadata": {},
   "source": []
  },
  {
   "cell_type": "markdown",
   "metadata": {},
   "source": [
    "## 0. Libraries "
   ]
  },
  {
   "cell_type": "code",
   "execution_count": 1,
   "metadata": {},
   "outputs": [],
   "source": [
    "import pandas as pd\n",
    "import matplotlib\n",
    "import numpy as np  \n",
    "import matplotlib.pyplot as plt\n",
    "from scipy.stats import chi2_contingency "
   ]
  },
  {
   "cell_type": "markdown",
   "metadata": {},
   "source": [
    "## 1. Load Data "
   ]
  },
  {
   "cell_type": "code",
   "execution_count": 2,
   "metadata": {},
   "outputs": [],
   "source": [
    "#Load the data \n",
    "df = pd.read_csv(\"data/clean/question_1_translated.csv\")"
   ]
  },
  {
   "cell_type": "markdown",
   "metadata": {},
   "source": [
    "### 2. Data Manipulation"
   ]
  },
  {
   "cell_type": "code",
   "execution_count": 3,
   "metadata": {},
   "outputs": [],
   "source": [
    "# Rename the columns\n",
    "df.rename(columns = {'subcategory': 'group'}, inplace=True)"
   ]
  },
  {
   "cell_type": "code",
   "execution_count": 4,
   "metadata": {},
   "outputs": [],
   "source": [
    "age_df = df[df['category'] == \"Age range\"]\n",
    "region_df = df[df['category'] == \"Region\"]\n",
    "race_df = df[df['category'] == \"Color/race\"]\n",
    "education_df = df[df['category'] == \"Education\"]\n",
    "income_df = df[df['category'] == \"Gross family income\"]\n",
    "religion_df = df[df['category'] == \"Religion\"]\n",
    "domicile_df = df[df['category'] == \"Domicile situation\"]\n",
    "\n",
    "\n",
    "filtered_age_df = age_df[age_df['answer'].isin(['Yes', 'No'])]\n",
    "filtered_region_df = region_df[region_df['answer'].isin(['Yes', 'No'])]\n",
    "filtered_race_df = race_df[race_df['answer'].isin(['Yes', 'No'])]\n",
    "filtered_education_df = education_df[education_df['answer'].isin(['Yes', 'No'])]\n",
    "filtered_income_df = income_df[income_df['answer'].isin(['Yes', 'No'])]\n",
    "filtered_religion_df = religion_df[religion_df['answer'].isin(['Yes', 'No'])]\n",
    "filtered_domicile_df = domicile_df[domicile_df['answer'].isin(['Yes', 'No'])]\n",
    "\n",
    "# Pivot the DataFrame to create a contingency table\n",
    "age_contingency_table = filtered_age_df.pivot_table(index='group',columns='answer',values='percentage',fill_value=0)\n",
    "region_contingency_table = filtered_region_df.pivot_table(index='group',columns='answer',values='percentage',fill_value=0)\n",
    "race_contingency_table = filtered_race_df.pivot_table(index='group',columns='answer',values='percentage',fill_value=0)\n",
    "education_contingency_table = filtered_education_df.pivot_table(index='group',columns='answer',values='percentage',fill_value=0)\n",
    "income_contingency_table = filtered_income_df.pivot_table(index='group',columns='answer',values='percentage',fill_value=0)\n",
    "religion_contingency_table = filtered_religion_df.pivot_table(index='group',columns='answer',values='percentage',fill_value=0)\n",
    "domicile_contingency_table = filtered_domicile_df.pivot_table(index='group',columns='answer',values='percentage',fill_value=0)\n",
    "\n",
    "# Reset the index for better readability\n",
    "age_contingency_table.reset_index(inplace=True)\n",
    "region_contingency_table.reset_index(inplace=True)\n",
    "race_contingency_table.reset_index(inplace=True)\n",
    "education_contingency_table.reset_index(inplace=True)\n",
    "income_contingency_table.reset_index(inplace=True)\n",
    "religion_contingency_table.reset_index(inplace=True)\n",
    "domicile_contingency_table.reset_index(inplace=True)\n",
    "\n",
    "\n"
   ]
  },
  {
   "cell_type": "markdown",
   "metadata": {},
   "source": [
    "# Grouping by category, subcategory, and answer, then averaging percentage over all years\n",
    "age_avg_df = age_df.groupby([\"group\"])[\"percentage\"].mean().reset_index()\n",
    "region_avg_df = region_df.groupby([\"group\"])[\"percentage\"].mean().reset_index\n",
    "race_avg_df = race_df.groupby([\"group\"])[\"percentage\"].mean().reset_index\n",
    "education_avg_df = education_df.groupby([\"group\"])[\"percentage\"].mean().reset_index\n",
    "income_avg_df = income_df.groupby([\"group\"])[\"percentage\"].mean().reset_index\n",
    "religion_avg_df = religion_df.groupby([\"group\"])[\"percentage\"].mean().reset_index\n",
    "domicile_avg_df = domicile_df.groupby([\"group\"])[\"percentage\"].mean().reset_index\n",
    "\n"
   ]
  },
  {
   "cell_type": "code",
   "execution_count": 5,
   "metadata": {},
   "outputs": [],
   "source": [
    "age_contingency_table.set_index('group', inplace=True)\n",
    "region_contingency_table.set_index('group', inplace=True)\n",
    "race_contingency_table.set_index('group', inplace=True) \n",
    "education_contingency_table.set_index('group', inplace=True)\n",
    "income_contingency_table.set_index('group', inplace=True)\n",
    "religion_contingency_table.set_index('group', inplace=True)\n",
    "domicile_contingency_table.set_index('group', inplace=True)"
   ]
  },
  {
   "cell_type": "code",
   "execution_count": 10,
   "metadata": {},
   "outputs": [],
   "source": [
    "_, age_p, _, _ = chi2_contingency(age_contingency_table)\n",
    "_, region_p, _, _ = chi2_contingency(region_contingency_table)\n",
    "_, race_p, _, _ =  chi2_contingency(race_contingency_table)\n",
    "_, education_p, _, _ = chi2_contingency(education_contingency_table)\n",
    "_, income_p, _, _ = chi2_contingency(income_contingency_table)\n",
    "_, religion_p, _, _ = chi2_contingency(religion_contingency_table)\n",
    "_, domicile_p, _, _ = chi2_contingency(domicile_contingency_table)\n"
   ]
  },
  {
   "cell_type": "markdown",
   "metadata": {},
   "source": [
    "## Question 1"
   ]
  },
  {
   "cell_type": "markdown",
   "metadata": {},
   "source": [
    "'Você já sofreu algum tipo de violência doméstica ou familiar provocada por um homem?'\n",
    "\n",
    "'Have you ever suffered any type of domestic or family violence caused by a man?'"
   ]
  },
  {
   "cell_type": "code",
   "execution_count": 115,
   "metadata": {},
   "outputs": [
    {
     "data": {
      "text/plain": [
       "category\n",
       "Age range              145\n",
       "Region                 145\n",
       "Education               87\n",
       "Color/race              60\n",
       "Gross family income      9\n",
       "Religion                 9\n",
       "Domicile situation       6\n",
       "Name: count, dtype: int64"
      ]
     },
     "execution_count": 115,
     "metadata": {},
     "output_type": "execute_result"
    }
   ],
   "source": [
    "df.category.value_counts()"
   ]
  },
  {
   "cell_type": "markdown",
   "metadata": {},
   "source": [
    "#### Hypothesis Test "
   ]
  },
  {
   "cell_type": "code",
   "execution_count": 12,
   "metadata": {},
   "outputs": [
    {
     "name": "stdout",
     "output_type": "stream",
     "text": [
      "Null Hypothesis (H₀): There is no relationship between group and response type (they are independent).\n",
      "Alternate Hypothesis (H₁): There is a relationship between group and response type (they are dependent).\n"
     ]
    }
   ],
   "source": [
    "# Hypotheses\n",
    "null_hypothesis = \"There is no relationship between group and response type (they are independent).\"  # H₀\n",
    "alt_hypothesis = \"There is a relationship between group and response type (they are dependent).\" # H₁\n",
    "print(f\"Null Hypothesis (H₀): {null_hypothesis}\")\n",
    "print(f\"Alternate Hypothesis (H₁): {alt_hypothesis}\")"
   ]
  },
  {
   "cell_type": "code",
   "execution_count": 20,
   "metadata": {},
   "outputs": [
    {
     "name": "stdout",
     "output_type": "stream",
     "text": [
      "Results for Age:\n",
      "Chi-Square Statistic: 3.0495\n",
      "P-value: 0.5496\n",
      "Fail to reject the null hypothesis; there is no significant relationship between the variables.\n",
      "\n",
      "Results for Region:\n",
      "Chi-Square Statistic: 0.0527\n",
      "P-value: 0.9997\n",
      "Fail to reject the null hypothesis; there is no significant relationship between the variables.\n",
      "\n",
      "Results for Race:\n",
      "Chi-Square Statistic: 1.1439\n",
      "P-value: 0.5644\n",
      "Fail to reject the null hypothesis; there is no significant relationship between the variables.\n",
      "\n",
      "Results for Education:\n",
      "Chi-Square Statistic: 3.6723\n",
      "P-value: 0.1594\n",
      "Fail to reject the null hypothesis; there is no significant relationship between the variables.\n",
      "\n",
      "Results for Income:\n",
      "Chi-Square Statistic: 5.6299\n",
      "P-value: 0.0599\n",
      "Fail to reject the null hypothesis; there is no significant relationship between the variables.\n",
      "\n",
      "Results for Religion:\n",
      "Chi-Square Statistic: 2.8327\n",
      "P-value: 0.2426\n",
      "Fail to reject the null hypothesis; there is no significant relationship between the variables.\n",
      "\n",
      "Results for Domicile:\n",
      "Chi-Square Statistic: 0.4517\n",
      "P-value: 0.5015\n",
      "Fail to reject the null hypothesis; there is no significant relationship between the variables.\n",
      "\n"
     ]
    }
   ],
   "source": [
    "# Assume the following dictionaries hold your contingency tables\n",
    "contingency_tables = {\n",
    "    \"Age\": age_contingency_table,\n",
    "    \"Region\": region_contingency_table,\n",
    "    \"Race\": race_contingency_table,\n",
    "    \"Education\": education_contingency_table,\n",
    "    \"Income\": income_contingency_table,\n",
    "    \"Religion\": religion_contingency_table,\n",
    "    \"Domicile\": domicile_contingency_table,\n",
    "}\n",
    "\n",
    "# Iterate through each contingency table and perform the Chi-Square Test\n",
    "for category, table in contingency_tables.items():\n",
    "    chi2_stat, p_value, _, _ = chi2_contingency(table)\n",
    "    \n",
    "    print(f\"Results for {category}:\")\n",
    "    print(f\"Chi-Square Statistic: {chi2_stat:.4f}\")\n",
    "    print(f\"P-value: {p_value:.4f}\")\n",
    "    \n",
    "    if p_value < 0.05:\n",
    "        print(\"Reject the null hypothesis; there is a significant relationship between the variables.\")\n",
    "    else:\n",
    "        print(\"Fail to reject the null hypothesis; there is no significant relationship between the variables.\")\n",
    "    print()  "
   ]
  },
  {
   "cell_type": "markdown",
   "metadata": {},
   "source": []
  },
  {
   "cell_type": "code",
   "execution_count": null,
   "metadata": {},
   "outputs": [],
   "source": []
  }
 ],
 "metadata": {
  "kernelspec": {
   "display_name": ".venv",
   "language": "python",
   "name": "python3"
  },
  "language_info": {
   "codemirror_mode": {
    "name": "ipython",
    "version": 3
   },
   "file_extension": ".py",
   "mimetype": "text/x-python",
   "name": "python",
   "nbconvert_exporter": "python",
   "pygments_lexer": "ipython3",
   "version": "3.12.2"
  }
 },
 "nbformat": 4,
 "nbformat_minor": 2
}
