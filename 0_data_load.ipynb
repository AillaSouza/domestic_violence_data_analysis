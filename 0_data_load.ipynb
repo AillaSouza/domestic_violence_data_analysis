{
 "cells": [
  {
   "cell_type": "code",
   "execution_count": null,
   "metadata": {},
   "outputs": [],
   "source": []
  },
  {
   "cell_type": "code",
   "execution_count": 1,
   "metadata": {},
   "outputs": [],
   "source": [
    "import json\n",
    "import pandas as pd"
   ]
  },
  {
   "cell_type": "code",
   "execution_count": 6,
   "metadata": {},
   "outputs": [],
   "source": [
    "with open(\"data/raw/datasenado_json_completo.json\", \"r\", encoding='utf-8-sig') as f:\n",
    "    data = json.load(f)"
   ]
  },
  {
   "cell_type": "code",
   "execution_count": 7,
   "metadata": {},
   "outputs": [],
   "source": [
    "clean_data= []\n",
    "\n",
    "for bloco in data['perguntas']:\n",
    "    for perguntas in bloco['perguntas']:\n",
    "        for ano in perguntas['anos']:\n",
    "            for cat in ano['categorias']:\n",
    "                row = {}\n",
    "                row['bloco'] = bloco['bloco']\n",
    "                row['question']= perguntas['titulo']\n",
    "                row['year']= ano['ano']\n",
    "                row['answer'] = cat['cat']\n",
    "                row['percentage'] = cat['perc']\n",
    "                clean_data.append(row)"
   ]
  },
  {
   "cell_type": "code",
   "execution_count": 8,
   "metadata": {},
   "outputs": [],
   "source": [
    "clean_data_df = pd.DataFrame(clean_data)"
   ]
  },
  {
   "cell_type": "code",
   "execution_count": 11,
   "metadata": {},
   "outputs": [
    {
     "data": {
      "text/html": [
       "<div>\n",
       "<style scoped>\n",
       "    .dataframe tbody tr th:only-of-type {\n",
       "        vertical-align: middle;\n",
       "    }\n",
       "\n",
       "    .dataframe tbody tr th {\n",
       "        vertical-align: top;\n",
       "    }\n",
       "\n",
       "    .dataframe thead th {\n",
       "        text-align: right;\n",
       "    }\n",
       "</style>\n",
       "<table border=\"1\" class=\"dataframe\">\n",
       "  <thead>\n",
       "    <tr style=\"text-align: right;\">\n",
       "      <th></th>\n",
       "      <th>bloco</th>\n",
       "      <th>question</th>\n",
       "      <th>year</th>\n",
       "      <th>answer</th>\n",
       "      <th>percentage</th>\n",
       "    </tr>\n",
       "  </thead>\n",
       "  <tbody>\n",
       "    <tr>\n",
       "      <th>0</th>\n",
       "      <td>Percepção geral sobre violência contra as mulh...</td>\n",
       "      <td>De forma geral, você acha que as mulheres são ...</td>\n",
       "      <td>2005</td>\n",
       "      <td>Sim</td>\n",
       "      <td>8</td>\n",
       "    </tr>\n",
       "    <tr>\n",
       "      <th>1</th>\n",
       "      <td>Percepção geral sobre violência contra as mulh...</td>\n",
       "      <td>De forma geral, você acha que as mulheres são ...</td>\n",
       "      <td>2005</td>\n",
       "      <td>Às vezes</td>\n",
       "      <td>35</td>\n",
       "    </tr>\n",
       "    <tr>\n",
       "      <th>2</th>\n",
       "      <td>Percepção geral sobre violência contra as mulh...</td>\n",
       "      <td>De forma geral, você acha que as mulheres são ...</td>\n",
       "      <td>2005</td>\n",
       "      <td>Não</td>\n",
       "      <td>56</td>\n",
       "    </tr>\n",
       "    <tr>\n",
       "      <th>3</th>\n",
       "      <td>Percepção geral sobre violência contra as mulh...</td>\n",
       "      <td>De forma geral, você acha que as mulheres são ...</td>\n",
       "      <td>2005</td>\n",
       "      <td>NS/NR</td>\n",
       "      <td>0</td>\n",
       "    </tr>\n",
       "    <tr>\n",
       "      <th>4</th>\n",
       "      <td>Percepção geral sobre violência contra as mulh...</td>\n",
       "      <td>De forma geral, você acha que as mulheres são ...</td>\n",
       "      <td>2007</td>\n",
       "      <td>Sim</td>\n",
       "      <td>8</td>\n",
       "    </tr>\n",
       "  </tbody>\n",
       "</table>\n",
       "</div>"
      ],
      "text/plain": [
       "                                               bloco  \\\n",
       "0  Percepção geral sobre violência contra as mulh...   \n",
       "1  Percepção geral sobre violência contra as mulh...   \n",
       "2  Percepção geral sobre violência contra as mulh...   \n",
       "3  Percepção geral sobre violência contra as mulh...   \n",
       "4  Percepção geral sobre violência contra as mulh...   \n",
       "\n",
       "                                            question  year    answer  \\\n",
       "0  De forma geral, você acha que as mulheres são ...  2005       Sim   \n",
       "1  De forma geral, você acha que as mulheres são ...  2005  Às vezes   \n",
       "2  De forma geral, você acha que as mulheres são ...  2005       Não   \n",
       "3  De forma geral, você acha que as mulheres são ...  2005     NS/NR   \n",
       "4  De forma geral, você acha que as mulheres são ...  2007       Sim   \n",
       "\n",
       "  percentage  \n",
       "0          8  \n",
       "1         35  \n",
       "2         56  \n",
       "3          0  \n",
       "4          8  "
      ]
     },
     "execution_count": 11,
     "metadata": {},
     "output_type": "execute_result"
    }
   ],
   "source": [
    "clean_data_df.head(5)"
   ]
  },
  {
   "cell_type": "code",
   "execution_count": 10,
   "metadata": {},
   "outputs": [],
   "source": [
    "# save to csv\n",
    "clean_data_df.to_csv('data/clean/clean_df.csv', index=False)"
   ]
  }
 ],
 "metadata": {
  "kernelspec": {
   "display_name": "base",
   "language": "python",
   "name": "python3"
  },
  "language_info": {
   "codemirror_mode": {
    "name": "ipython",
    "version": 3
   },
   "file_extension": ".py",
   "mimetype": "text/x-python",
   "name": "python",
   "nbconvert_exporter": "python",
   "pygments_lexer": "ipython3",
   "version": "3.12.2"
  }
 },
 "nbformat": 4,
 "nbformat_minor": 2
}
